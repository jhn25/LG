{
  "nbformat": 4,
  "nbformat_minor": 0,
  "metadata": {
    "colab": {
      "provenance": [],
      "toc_visible": true
    },
    "kernelspec": {
      "name": "python3",
      "display_name": "Python 3"
    },
    "accelerator": "GPU",
    "gpuClass": "standard"
  },
  "cells": [
    {
      "cell_type": "markdown",
      "metadata": {
        "id": "NFZLbsaX8SH1"
      },
      "source": [
        "# Contents\n",
        "\n",
        "- Colab\n",
        "    - GPU 활용하기 (Oral)\n",
        "    - Hotkeys\n",
        "    - 터미널 명령\n",
        "    - 파일 입출력\n",
        "- Numpy\n",
        "    - 벡터 & 행렬\n",
        "        - 개체 생성\n",
        "        - 인덱싱 & 요소 할당\n",
        "        - 행렬 연산\n",
        "        - Reshaping\n",
        "    - Python list와의 비교\n",
        "- Exercise1\n",
        "- PyTorch\n",
        "    - Tensors\n",
        "        - 개체 생성\n",
        "        - Tensor 연산\n",
        "        - Reshaping\n",
        "- Exercise2\n"
      ]
    },
    {
      "cell_type": "markdown",
      "metadata": {
        "id": "jTi7s_Zx7q-5"
      },
      "source": [
        "# How to use Colab?\n"
      ]
    },
    {
      "cell_type": "markdown",
      "metadata": {
        "id": "hOYj4eVv78P3"
      },
      "source": [
        "Colab은 별도의 세팅 필요없이 전적으로 클라우드에서 실행되는 무료 Jupyter notebook 환경입니다.\n",
        "\n",
        "Colab을 활용하면 브라우저에서 바로 코드를 작성 및 실행하고, 분석 결과를 저장 및 공유하고, 강력한 컴퓨팅 리소스를 사용할 수 있습니다.\n",
        "\n",
        "- 현재 무료 Colab 버전에서는 Tesla T4 GPU를 무료 제공합니다."
      ]
    },
    {
      "cell_type": "markdown",
      "metadata": {
        "id": "eJ0xmENaPCUV"
      },
      "source": [
        "Advantages\n",
        "\n",
        "- The best thing is that it is free!\n",
        "- It gives you costly GPUs and working envriornment, independent of what personal machine you are using.\n",
        "- It also runs on Google servers using virtual machines and you don’t need to install any packages, which sometimes create difficulty you are using different operating systems such as MAC, Windows, and Linux."
      ]
    },
    {
      "cell_type": "markdown",
      "metadata": {
        "id": "dXMjrr-lidJq"
      },
      "source": [
        "### Hotkeys (change as you want)"
      ]
    },
    {
      "cell_type": "markdown",
      "metadata": {
        "id": "lLlLU_Aoi8IK"
      },
      "source": [
        "| hotkey | action |\n",
        "| --- | --- |\n",
        "| ctrl + M H | Open hotkey configuration |\n",
        "| ctrl + O | Open note |\n",
        "| ctrl + S | Save note |\n",
        "| ctrl + F9 | Run all cells |\n",
        "| ctrl + shift + enter | Run cell |\n",
        "| shift + enter | Run cell and move on to the next |\n",
        "| alt + enter | Run cell and add a new one below |\n",
        "| ctrl + M I | Stop running execution |\n",
        "| ctrl + M A | Add new code cell above |\n",
        "| ctrl + M B | Add new code cell below |\n",
        "| ctrl + M D | Delete cell |\n",
        "| ctrl + M K | Move cell up |\n",
        "| ctrl + M J | Move cell down |\n",
        "| ctrl + M Y | Change to code cell |\n",
        "| ctrl + M M | Change to markdown cell |\n",
        "| ctrl + M Z | Undo last cell execution |\n",
        "| ctrl + H | Search |\n",
        "| ctrl + / | Comment out or undo |"
      ]
    },
    {
      "cell_type": "markdown",
      "metadata": {
        "id": "hVbAfCjZsf9D"
      },
      "source": [
        "### 터미널 명령"
      ]
    },
    {
      "cell_type": "code",
      "metadata": {
        "id": "I-37xARkqKFA",
        "colab": {
          "base_uri": "https://localhost:8080/"
        },
        "outputId": "fb103f59-6875-4665-deea-b025517dd145"
      },
      "source": [
        "# OS 버전 확인\n",
        "# Colab에서 Linux 명령을 사용하기 위해서는 !를 앞에 붙여주면 됩니다.\n",
        "!cat /etc/issue.net"
      ],
      "execution_count": null,
      "outputs": [
        {
          "output_type": "stream",
          "name": "stdout",
          "text": [
            "Ubuntu 20.04.6 LTS\n"
          ]
        }
      ]
    },
    {
      "cell_type": "code",
      "metadata": {
        "id": "h1oXSy-RvGkC",
        "colab": {
          "base_uri": "https://localhost:8080/"
        },
        "outputId": "448253ad-3a46-4097-80fb-f56799754561"
      },
      "source": [
        "# CPU 정보 확인\n",
        "!cat /proc/cpuinfo | grep 'processor\\|model name\\|cpu cores'\n",
        "# 메모리(RAM) 정보 확인\n",
        "!free -h\n",
        "# 디스크 정보 확인\n",
        "!df -h"
      ],
      "execution_count": null,
      "outputs": [
        {
          "output_type": "stream",
          "name": "stdout",
          "text": [
            "processor\t: 0\n",
            "model name\t: Intel(R) Xeon(R) CPU @ 2.20GHz\n",
            "cpu cores\t: 1\n",
            "processor\t: 1\n",
            "model name\t: Intel(R) Xeon(R) CPU @ 2.20GHz\n",
            "cpu cores\t: 1\n",
            "              total        used        free      shared  buff/cache   available\n",
            "Mem:           12Gi       567Mi         9Gi       1.0Mi       2.1Gi        11Gi\n",
            "Swap:            0B          0B          0B\n",
            "Filesystem      Size  Used Avail Use% Mounted on\n",
            "overlay          79G   25G   55G  31% /\n",
            "tmpfs            64M     0   64M   0% /dev\n",
            "shm             5.7G     0  5.7G   0% /dev/shm\n",
            "/dev/root       2.0G 1005M  952M  52% /usr/sbin/docker-init\n",
            "tmpfs           6.4G   44K  6.4G   1% /var/colab\n",
            "/dev/sda1        50G   27G   24G  53% /opt/bin/.nvidia\n",
            "tmpfs           6.4G     0  6.4G   0% /proc/acpi\n",
            "tmpfs           6.4G     0  6.4G   0% /proc/scsi\n",
            "tmpfs           6.4G     0  6.4G   0% /sys/firmware\n"
          ]
        }
      ]
    },
    {
      "cell_type": "code",
      "metadata": {
        "id": "bnwLlgJ_gkAI",
        "colab": {
          "base_uri": "https://localhost:8080/"
        },
        "outputId": "3eff200f-40d2-4cdb-a0fe-4afc60bcf177"
      },
      "source": [
        "# GPU 정보 확인\n",
        "!nvidia-smi"
      ],
      "execution_count": null,
      "outputs": [
        {
          "output_type": "stream",
          "name": "stdout",
          "text": [
            "Mon Jun 19 05:32:49 2023       \n",
            "+-----------------------------------------------------------------------------+\n",
            "| NVIDIA-SMI 525.85.12    Driver Version: 525.85.12    CUDA Version: 12.0     |\n",
            "|-------------------------------+----------------------+----------------------+\n",
            "| GPU  Name        Persistence-M| Bus-Id        Disp.A | Volatile Uncorr. ECC |\n",
            "| Fan  Temp  Perf  Pwr:Usage/Cap|         Memory-Usage | GPU-Util  Compute M. |\n",
            "|                               |                      |               MIG M. |\n",
            "|===============================+======================+======================|\n",
            "|   0  Tesla T4            Off  | 00000000:00:04.0 Off |                    0 |\n",
            "| N/A   66C    P8    11W /  70W |      0MiB / 15360MiB |      0%      Default |\n",
            "|                               |                      |                  N/A |\n",
            "+-------------------------------+----------------------+----------------------+\n",
            "                                                                               \n",
            "+-----------------------------------------------------------------------------+\n",
            "| Processes:                                                                  |\n",
            "|  GPU   GI   CI        PID   Type   Process name                  GPU Memory |\n",
            "|        ID   ID                                                   Usage      |\n",
            "|=============================================================================|\n",
            "|  No running processes found                                                 |\n",
            "+-----------------------------------------------------------------------------+\n"
          ]
        }
      ]
    },
    {
      "cell_type": "code",
      "metadata": {
        "id": "o40n39H4r4gR",
        "colab": {
          "base_uri": "https://localhost:8080/"
        },
        "outputId": "94fa6796-5ffe-4a05-99c7-190ff02d4190"
      },
      "source": [
        "# Python 버전 확인\n",
        "!python --version"
      ],
      "execution_count": null,
      "outputs": [
        {
          "output_type": "stream",
          "name": "stdout",
          "text": [
            "Python 3.10.12\n"
          ]
        }
      ]
    },
    {
      "cell_type": "code",
      "metadata": {
        "id": "_vfTvu3_-lb8",
        "colab": {
          "base_uri": "https://localhost:8080/"
        },
        "outputId": "ee86abd5-aaa2-4760-9b7e-7e3d25fa567a"
      },
      "source": [
        "# 현재 작업 경로(Current Working Directory)\n",
        "!pwd"
      ],
      "execution_count": null,
      "outputs": [
        {
          "output_type": "stream",
          "name": "stdout",
          "text": [
            "/content\n"
          ]
        }
      ]
    },
    {
      "cell_type": "code",
      "metadata": {
        "id": "vnJhNcnO-7X0",
        "colab": {
          "base_uri": "https://localhost:8080/"
        },
        "outputId": "ff8ae4c3-5db4-453f-d8af-cba66f144e8f"
      },
      "source": [
        "# 현재 작업 경로의 파일/폴더 리스트 확인\n",
        "# ls -[옵션]\n",
        "!ls -lah"
      ],
      "execution_count": null,
      "outputs": [
        {
          "output_type": "stream",
          "name": "stdout",
          "text": [
            "total 16K\n",
            "drwxr-xr-x 1 root root 4.0K Jun 14 18:27 .\n",
            "drwxr-xr-x 1 root root 4.0K Jun 19 05:32 ..\n",
            "drwxr-xr-x 4 root root 4.0K Jun 14 18:26 .config\n",
            "drwxr-xr-x 1 root root 4.0K Jun 14 18:27 sample_data\n"
          ]
        }
      ]
    },
    {
      "cell_type": "code",
      "metadata": {
        "id": "SanL9vJZOk5v",
        "colab": {
          "base_uri": "https://localhost:8080/"
        },
        "outputId": "3d9f4bed-d1d7-428b-a640-c1a8edec280e"
      },
      "source": [
        "!mv # mv [옵션] [원본 경로] [옮길 경로]\n",
        "!cp # cp [옵션] [원본 경로] [옮길 경로]"
      ],
      "execution_count": null,
      "outputs": [
        {
          "output_type": "stream",
          "name": "stdout",
          "text": [
            "mv: missing file operand\n",
            "Try 'mv --help' for more information.\n",
            "cp: missing file operand\n",
            "Try 'cp --help' for more information.\n"
          ]
        }
      ]
    },
    {
      "cell_type": "code",
      "metadata": {
        "id": "Llw0ZPAKoMZi",
        "colab": {
          "base_uri": "https://localhost:8080/"
        },
        "outputId": "ed0bc258-0a4d-4d6c-ae42-6602a490abcf"
      },
      "source": [
        "!pip show torch"
      ],
      "execution_count": null,
      "outputs": [
        {
          "output_type": "stream",
          "name": "stdout",
          "text": [
            "Name: torch\n",
            "Version: 2.0.1+cu118\n",
            "Summary: Tensors and Dynamic neural networks in Python with strong GPU acceleration\n",
            "Home-page: https://pytorch.org/\n",
            "Author: PyTorch Team\n",
            "Author-email: packages@pytorch.org\n",
            "License: BSD-3\n",
            "Location: /usr/local/lib/python3.10/dist-packages\n",
            "Requires: filelock, jinja2, networkx, sympy, triton, typing-extensions\n",
            "Required-by: fastai, torchaudio, torchdata, torchtext, torchvision, triton\n"
          ]
        }
      ]
    },
    {
      "cell_type": "markdown",
      "metadata": {
        "id": "bjcTMg3s7sM4"
      },
      "source": [
        "### 파일 입출력"
      ]
    },
    {
      "cell_type": "code",
      "metadata": {
        "id": "ICWGHmOhuFUI"
      },
      "source": [
        "# Colab 작업경로에 파일 업로드\n",
        "# [NOTE] 업로드된 파일은 런타임이 초기화될 경우 사라집니다.\n",
        "# import os\n",
        "# from google.colab import files\n",
        "\n",
        "# uploaded = files.upload()\n",
        "\n",
        "# for f in uploaded.keys():\n",
        "#     print('User uploaded file \"{}\" at \"{}\"'.format(f, os.getcwd()))\n",
        "\n",
        "# Or simply open file tab then drag-and-drop"
      ],
      "execution_count": null,
      "outputs": []
    },
    {
      "cell_type": "code",
      "metadata": {
        "id": "AtBKyVEjAJu4"
      },
      "source": [
        "# Download file from Colab workspace\n",
        "# [NOTE] Chrome 브라우저 사용 및 써드파티 쿠키를 허용해야 합니다.\n",
        "# files.download('/content/sample_data/mnist_train_small.csv')\n",
        "\n",
        "# 또는 간단히 '파일' 탭에서 마우스 우 클릭하여 다운로드 하는 것을 추천합니다."
      ],
      "execution_count": null,
      "outputs": []
    },
    {
      "cell_type": "code",
      "metadata": {
        "id": "j4BaBcpeDGpO"
      },
      "source": [
        "# 구글 드라이브 마운트\n",
        "# from google.colab import drive\n",
        "\n",
        "# drive.mount('/content/gdrive')"
      ],
      "execution_count": null,
      "outputs": []
    },
    {
      "cell_type": "markdown",
      "metadata": {
        "id": "Wk7cUX5azP05"
      },
      "source": [
        "# Numpy Tutorial\n",
        "\n",
        "Numpy란?\n",
        "\n",
        "- Vector, 행렬 계산을 빠르고 효율적으로 진행하게 해주는 Python의 package\n",
        "- Deep learning은 **모든 데이터가 벡터 형태**로 이루어져있기 때문에 대부분의 학습/추론 과정은 모두 행렬 계산이라고 봐도 무방\n",
        "- **효율적인 행렬 계산을 위해 대부분 numpy 기반으로 코드를 작성**\n",
        "\n",
        "Refers heavily on\n",
        "https://nbviewer.jupyter.org/github/cgpotts/cs224u/blob/2019-spring/numpy_tutorial.ipynb\n"
      ]
    },
    {
      "cell_type": "code",
      "metadata": {
        "id": "vK_XkXfNy7oU"
      },
      "source": [
        "import numpy as np"
      ],
      "execution_count": null,
      "outputs": []
    },
    {
      "cell_type": "markdown",
      "metadata": {
        "id": "5x7X5YrLzF63"
      },
      "source": [
        "## Vectors & Matrices"
      ]
    },
    {
      "cell_type": "markdown",
      "metadata": {
        "id": "dc6oHf2H0V6a"
      },
      "source": [
        "### Initialization"
      ]
    },
    {
      "cell_type": "code",
      "metadata": {
        "id": "CIfxeRiOzFcp",
        "colab": {
          "base_uri": "https://localhost:8080/"
        },
        "outputId": "9316aea3-9c55-4b91-f6e7-9b42bf580cdf"
      },
      "source": [
        "# 괄호 안의 차원으로 영행렬 생성\n",
        "np.zeros(5)"
      ],
      "execution_count": null,
      "outputs": [
        {
          "output_type": "execute_result",
          "data": {
            "text/plain": [
              "array([0., 0., 0., 0., 0.])"
            ]
          },
          "metadata": {},
          "execution_count": 13
        }
      ]
    },
    {
      "cell_type": "code",
      "source": [
        "# np.zeros(shape=(3, 5)) 와 동일\n",
        "np.zeros((3, 5))"
      ],
      "metadata": {
        "colab": {
          "base_uri": "https://localhost:8080/"
        },
        "id": "tdhkKZWo80rM",
        "outputId": "8928fac5-5707-4f79-f8c7-c5b8c07065d8"
      },
      "execution_count": null,
      "outputs": [
        {
          "output_type": "execute_result",
          "data": {
            "text/plain": [
              "array([[0., 0., 0., 0., 0.],\n",
              "       [0., 0., 0., 0., 0.],\n",
              "       [0., 0., 0., 0., 0.]])"
            ]
          },
          "metadata": {},
          "execution_count": 14
        }
      ]
    },
    {
      "cell_type": "code",
      "metadata": {
        "id": "IOuBYS5QzEdW",
        "colab": {
          "base_uri": "https://localhost:8080/"
        },
        "outputId": "a318fb78-7f97-4eca-c36b-213a6bc41229"
      },
      "source": [
        "np.ones((3, 5))"
      ],
      "execution_count": null,
      "outputs": [
        {
          "output_type": "execute_result",
          "data": {
            "text/plain": [
              "array([[1., 1., 1., 1., 1.],\n",
              "       [1., 1., 1., 1., 1.],\n",
              "       [1., 1., 1., 1., 1.]])"
            ]
          },
          "metadata": {},
          "execution_count": 15
        }
      ]
    },
    {
      "cell_type": "code",
      "metadata": {
        "id": "8FbbUutizL-3",
        "colab": {
          "base_uri": "https://localhost:8080/"
        },
        "outputId": "9b798861-6d19-4e91-989d-ca2069b7076b"
      },
      "source": [
        "# 파이썬 list를 numpy array로 변환\n",
        "np.array([1, 2, 3, 4, 5])"
      ],
      "execution_count": null,
      "outputs": [
        {
          "output_type": "execute_result",
          "data": {
            "text/plain": [
              "array([1, 2, 3, 4, 5])"
            ]
          },
          "metadata": {},
          "execution_count": 16
        }
      ]
    },
    {
      "cell_type": "code",
      "source": [
        "np.ones(5)"
      ],
      "metadata": {
        "colab": {
          "base_uri": "https://localhost:8080/"
        },
        "id": "xsiHz8GD4bVl",
        "outputId": "d10d5b2b-7d9c-43b9-90c3-7bb36e02cfd8"
      },
      "execution_count": null,
      "outputs": [
        {
          "output_type": "execute_result",
          "data": {
            "text/plain": [
              "array([1., 1., 1., 1., 1.])"
            ]
          },
          "metadata": {},
          "execution_count": 17
        }
      ]
    },
    {
      "cell_type": "code",
      "metadata": {
        "id": "MrfLFJ5pzc-w",
        "colab": {
          "base_uri": "https://localhost:8080/"
        },
        "outputId": "faff3656-3601-4854-f7fd-bd89efee7265"
      },
      "source": [
        "# numpy array를 파이썬 list로 변환\n",
        "np.ones(5).tolist()"
      ],
      "execution_count": null,
      "outputs": [
        {
          "output_type": "execute_result",
          "data": {
            "text/plain": [
              "[1.0, 1.0, 1.0, 1.0, 1.0]"
            ]
          },
          "metadata": {},
          "execution_count": 18
        }
      ]
    },
    {
      "cell_type": "code",
      "metadata": {
        "id": "BiMCVVjKzuDo",
        "colab": {
          "base_uri": "https://localhost:8080/"
        },
        "outputId": "b64c5fb8-e085-4542-bc7b-042513ff818f"
      },
      "source": [
        "# 자료형을 특정해줄 수 있습니다.\n",
        "np.array([[1,2,3], [4,5,6]], dtype='int')"
      ],
      "execution_count": null,
      "outputs": [
        {
          "output_type": "execute_result",
          "data": {
            "text/plain": [
              "array([[1, 2, 3],\n",
              "       [4, 5, 6]])"
            ]
          },
          "metadata": {},
          "execution_count": 2
        }
      ]
    },
    {
      "cell_type": "code",
      "source": [
        "np.array([[1,2,3],[4,5,6]], dtype='float')"
      ],
      "metadata": {
        "id": "McAzHQJS6Cew",
        "outputId": "f350b0ae-6856-4017-d84f-bfe16e654e2e",
        "colab": {
          "base_uri": "https://localhost:8080/"
        }
      },
      "execution_count": null,
      "outputs": [
        {
          "output_type": "execute_result",
          "data": {
            "text/plain": [
              "array([[1., 2., 3.],\n",
              "       [4., 5., 6.]])"
            ]
          },
          "metadata": {},
          "execution_count": 3
        }
      ]
    },
    {
      "cell_type": "code",
      "metadata": {
        "id": "Z9h21mc8z79c",
        "colab": {
          "base_uri": "https://localhost:8080/"
        },
        "outputId": "da9aaa61-9827-4242-cfc7-649610f73a77"
      },
      "source": [
        "# 간격만큼 띄워진 수열 생성\n",
        "# np.arange(start, end, interval)\n",
        "np.arange(0, 20, 2)"
      ],
      "execution_count": null,
      "outputs": [
        {
          "output_type": "execute_result",
          "data": {
            "text/plain": [
              "array([ 0,  2,  4,  6,  8, 10, 12, 14, 16, 18])"
            ]
          },
          "metadata": {},
          "execution_count": 20
        }
      ]
    },
    {
      "cell_type": "code",
      "metadata": {
        "id": "D12zKwgV0EyU",
        "colab": {
          "base_uri": "https://localhost:8080/"
        },
        "outputId": "fb4a5bc1-f57c-4844-c8d3-2861f79b1e8b"
      },
      "source": [
        "# random floats in [0, 1) --> uniform distribution\n",
        "# 0 이상 1 미만의 Uniform distribution에서 난수 추출\n",
        "\n",
        "np.random.random(10)"
      ],
      "execution_count": null,
      "outputs": [
        {
          "output_type": "execute_result",
          "data": {
            "text/plain": [
              "array([0.44536911, 0.69778836, 0.32129995, 0.0442707 , 0.82988055,\n",
              "       0.27055351, 0.25675567, 0.12253944, 0.86686644, 0.56257891])"
            ]
          },
          "metadata": {},
          "execution_count": 21
        }
      ]
    },
    {
      "cell_type": "code",
      "metadata": {
        "id": "5mlOXgfr5sfI",
        "colab": {
          "base_uri": "https://localhost:8080/"
        },
        "outputId": "4f65a30f-875b-4dc6-97cf-99b12b528231"
      },
      "source": [
        "# identity matrix\n",
        "np.identity(3)"
      ],
      "execution_count": null,
      "outputs": [
        {
          "output_type": "execute_result",
          "data": {
            "text/plain": [
              "array([[1., 0., 0.],\n",
              "       [0., 1., 0.],\n",
              "       [0., 0., 1.]])"
            ]
          },
          "metadata": {},
          "execution_count": 22
        }
      ]
    },
    {
      "cell_type": "markdown",
      "metadata": {
        "id": "thm8GLwl0XRW"
      },
      "source": [
        "### Indexing"
      ]
    },
    {
      "cell_type": "code",
      "metadata": {
        "id": "XPoqQr6-0OM-"
      },
      "source": [
        "import numpy as np\n",
        "x = np.array([10, 20, 30, 40, 50])"
      ],
      "execution_count": null,
      "outputs": []
    },
    {
      "cell_type": "code",
      "metadata": {
        "id": "y1EI7a610bxh",
        "colab": {
          "base_uri": "https://localhost:8080/"
        },
        "outputId": "55b14f60-8c82-498d-d2c2-17270c67dfd1"
      },
      "source": [
        "x[0]"
      ],
      "execution_count": null,
      "outputs": [
        {
          "output_type": "execute_result",
          "data": {
            "text/plain": [
              "10"
            ]
          },
          "metadata": {},
          "execution_count": 24
        }
      ]
    },
    {
      "cell_type": "code",
      "source": [
        "x[-1]"
      ],
      "metadata": {
        "colab": {
          "base_uri": "https://localhost:8080/"
        },
        "id": "RWTYHBA863KQ",
        "outputId": "e461ce10-0c0b-405e-fa32-c483e53be125"
      },
      "execution_count": null,
      "outputs": [
        {
          "output_type": "execute_result",
          "data": {
            "text/plain": [
              "50"
            ]
          },
          "metadata": {},
          "execution_count": 25
        }
      ]
    },
    {
      "cell_type": "code",
      "metadata": {
        "id": "m8mVc6nx0e5o",
        "colab": {
          "base_uri": "https://localhost:8080/"
        },
        "outputId": "62313ada-b65e-4620-e1f8-7a2870f9b63b"
      },
      "source": [
        "# slicing:\n",
        "# 3번째 원소는 포함하지 않음\n",
        "x[0:2]"
      ],
      "execution_count": null,
      "outputs": [
        {
          "output_type": "execute_result",
          "data": {
            "text/plain": [
              "array([10, 20])"
            ]
          },
          "metadata": {},
          "execution_count": 26
        }
      ]
    },
    {
      "cell_type": "code",
      "metadata": {
        "id": "qVqymdRQ6ceH",
        "colab": {
          "base_uri": "https://localhost:8080/"
        },
        "outputId": "c46cff7d-8155-4b6c-c48b-70535f2707c1"
      },
      "source": [
        "# 2차원 행렬에서의 indexing\n",
        "X = np.array([[1,2,3], [4,5,6]])\n",
        "X"
      ],
      "execution_count": 5,
      "outputs": [
        {
          "output_type": "execute_result",
          "data": {
            "text/plain": [
              "array([[1, 2, 3],\n",
              "       [4, 5, 6]])"
            ]
          },
          "metadata": {},
          "execution_count": 5
        }
      ]
    },
    {
      "cell_type": "code",
      "metadata": {
        "id": "T9hR4X3H6ceK",
        "colab": {
          "base_uri": "https://localhost:8080/"
        },
        "outputId": "4a6a11d2-f57b-4d5a-bbc1-6c0526d834bc"
      },
      "source": [
        "# 첫번째 행\n",
        "X[0]"
      ],
      "execution_count": 8,
      "outputs": [
        {
          "output_type": "execute_result",
          "data": {
            "text/plain": [
              "array([1, 2, 3])"
            ]
          },
          "metadata": {},
          "execution_count": 8
        }
      ]
    },
    {
      "cell_type": "code",
      "source": [
        "# 모든 행의 첫번째 열\n",
        "X[:, 0]"
      ],
      "metadata": {
        "colab": {
          "base_uri": "https://localhost:8080/"
        },
        "id": "f1QdEmHb7MTZ",
        "outputId": "2ce1d6ae-2085-4ca9-a060-52d698c1ecab"
      },
      "execution_count": null,
      "outputs": [
        {
          "output_type": "execute_result",
          "data": {
            "text/plain": [
              "array([1, 4])"
            ]
          },
          "metadata": {},
          "execution_count": 29
        }
      ]
    },
    {
      "cell_type": "code",
      "metadata": {
        "id": "lgQR6P616ceN",
        "colab": {
          "base_uri": "https://localhost:8080/"
        },
        "outputId": "5546dd11-adab-4304-999e-844e717628eb"
      },
      "source": [
        "# 첫번째 행의 첫번째 열\n",
        "X[0, 0]"
      ],
      "execution_count": null,
      "outputs": [
        {
          "output_type": "execute_result",
          "data": {
            "text/plain": [
              "1"
            ]
          },
          "metadata": {},
          "execution_count": 30
        }
      ]
    },
    {
      "cell_type": "code",
      "metadata": {
        "id": "U7JP86S66ceP",
        "colab": {
          "base_uri": "https://localhost:8080/"
        },
        "outputId": "53a8a411-68a2-4027-b749-99ce32660f60"
      },
      "source": [
        "# Matrix\n",
        "# [Row, Column]\n",
        "# 행 추출\n",
        "X[0, :]"
      ],
      "execution_count": null,
      "outputs": [
        {
          "output_type": "execute_result",
          "data": {
            "text/plain": [
              "array([1, 2, 3])"
            ]
          },
          "metadata": {},
          "execution_count": 31
        }
      ]
    },
    {
      "cell_type": "code",
      "metadata": {
        "id": "wvEFYPCG6ceR",
        "colab": {
          "base_uri": "https://localhost:8080/"
        },
        "outputId": "9cda5a71-9a4b-4a61-9745-275cd0d69f87"
      },
      "source": [
        "# 열 추출\n",
        "X[:, 0]"
      ],
      "execution_count": null,
      "outputs": [
        {
          "output_type": "execute_result",
          "data": {
            "text/plain": [
              "array([1, 4])"
            ]
          },
          "metadata": {},
          "execution_count": 32
        }
      ]
    },
    {
      "cell_type": "code",
      "metadata": {
        "id": "cY6OJmaQ6ceT",
        "colab": {
          "base_uri": "https://localhost:8080/"
        },
        "outputId": "e495f5d0-2dfe-4d65-e249-8fdc2799cb71"
      },
      "source": [
        "# 여러 열 추출\n",
        "X[:, [0, 2]]"
      ],
      "execution_count": null,
      "outputs": [
        {
          "output_type": "execute_result",
          "data": {
            "text/plain": [
              "array([[1, 3],\n",
              "       [4, 6]])"
            ]
          },
          "metadata": {},
          "execution_count": 33
        }
      ]
    },
    {
      "cell_type": "markdown",
      "metadata": {
        "id": "KynXuXRn1U0t"
      },
      "source": [
        "### Operations (functions)"
      ]
    },
    {
      "cell_type": "code",
      "source": [
        "a = np.array([[1,2,3,4],\n",
        "               [5,6,7,8],\n",
        "               [9,10,11,12]])\n",
        "a"
      ],
      "metadata": {
        "colab": {
          "base_uri": "https://localhost:8080/"
        },
        "id": "oZ0rIfL-8dmE",
        "outputId": "ffaf2863-e1dd-475e-b1bb-3f2c050de446"
      },
      "execution_count": 11,
      "outputs": [
        {
          "output_type": "execute_result",
          "data": {
            "text/plain": [
              "array([[ 1,  2,  3,  4],\n",
              "       [ 5,  6,  7,  8],\n",
              "       [ 9, 10, 11, 12]])"
            ]
          },
          "metadata": {},
          "execution_count": 11
        }
      ]
    },
    {
      "cell_type": "code",
      "metadata": {
        "id": "GEeL87Hg6fXa",
        "colab": {
          "base_uri": "https://localhost:8080/"
        },
        "outputId": "2e74395c-1ae3-4b8d-de01-b8dba92e8cb8"
      },
      "source": [
        "#  Built-in 메서드\n",
        "print(a.sum())\n",
        "print(a.mean())\n",
        "print(a.max())\n",
        "\n",
        "print(a.argmax()) # 가장 큰 숫자의 인덱스, 위치를 알려줌"
      ],
      "execution_count": null,
      "outputs": [
        {
          "output_type": "stream",
          "name": "stdout",
          "text": [
            "78\n",
            "6.5\n",
            "12\n",
            "11\n"
          ]
        }
      ]
    },
    {
      "cell_type": "code",
      "metadata": {
        "id": "QzEHGrhP6vhI",
        "colab": {
          "base_uri": "https://localhost:8080/"
        },
        "outputId": "4040c801-7496-41cd-a09e-dfed4ef9a247"
      },
      "source": [
        "# 각 열에서의 최대값\n",
        "print(a.max(axis=0))"
      ],
      "execution_count": null,
      "outputs": [
        {
          "output_type": "stream",
          "name": "stdout",
          "text": [
            "[ 9 10 11 12]\n"
          ]
        }
      ]
    },
    {
      "cell_type": "code",
      "metadata": {
        "id": "XPgvzbJT6wVe",
        "colab": {
          "base_uri": "https://localhost:8080/"
        },
        "outputId": "6daa8123-aa8d-4475-ce81-1e10a8db5bff"
      },
      "source": [
        "# others\n",
        "print(np.log(a))\n",
        "print(np.exp(a))"
      ],
      "execution_count": null,
      "outputs": [
        {
          "output_type": "stream",
          "name": "stdout",
          "text": [
            "[[0.         0.69314718 1.09861229 1.38629436]\n",
            " [1.60943791 1.79175947 1.94591015 2.07944154]\n",
            " [2.19722458 2.30258509 2.39789527 2.48490665]]\n",
            "[[2.71828183e+00 7.38905610e+00 2.00855369e+01 5.45981500e+01]\n",
            " [1.48413159e+02 4.03428793e+02 1.09663316e+03 2.98095799e+03]\n",
            " [8.10308393e+03 2.20264658e+04 5.98741417e+04 1.62754791e+05]]\n"
          ]
        }
      ]
    },
    {
      "cell_type": "code",
      "source": [
        "a"
      ],
      "metadata": {
        "colab": {
          "base_uri": "https://localhost:8080/"
        },
        "id": "TD8isSW786Hd",
        "outputId": "e9b54279-0b1f-4c2c-9186-a43efb229fc1"
      },
      "execution_count": 12,
      "outputs": [
        {
          "output_type": "execute_result",
          "data": {
            "text/plain": [
              "array([[ 1,  2,  3,  4],\n",
              "       [ 5,  6,  7,  8],\n",
              "       [ 9, 10, 11, 12]])"
            ]
          },
          "metadata": {},
          "execution_count": 12
        }
      ]
    },
    {
      "cell_type": "code",
      "source": [
        "# Vector + scalar\n",
        "print(a + 1)"
      ],
      "metadata": {
        "colab": {
          "base_uri": "https://localhost:8080/"
        },
        "id": "IYppTeF5_yq1",
        "outputId": "fb045066-7b11-4785-f396-40b69a032e3f"
      },
      "execution_count": 13,
      "outputs": [
        {
          "output_type": "stream",
          "name": "stdout",
          "text": [
            "[[ 2  3  4  5]\n",
            " [ 6  7  8  9]\n",
            " [10 11 12 13]]\n"
          ]
        }
      ]
    },
    {
      "cell_type": "code",
      "metadata": {
        "id": "WMZ8C28K6xE5",
        "colab": {
          "base_uri": "https://localhost:8080/"
        },
        "outputId": "c469481f-8011-4318-8a5f-5abf45904344"
      },
      "source": [
        "\"\"\" Broadcasting \"\"\"\n",
        "\n",
        "m1 = np.array([[1, 2]])\n",
        "m2 = np.array([[3],\n",
        "               [4]])\n",
        "m3 = np.array([[1,2],[3,4]])\n",
        "# 1 x 2 Vector + 2 x 1 Vector\n",
        "print(m1)\n",
        "print(m2)\n",
        "print('\\n')\n",
        "print(m1 + m2) # 2x2 행렬\n",
        "print('\\n')\n",
        "# 1 x 2 Vector + 2 x 2 Vector\n",
        "print(m1 + m3)  # 2x2 행렬\n",
        "print('\\n')\n",
        "# 2 x 1 Vector + 2 x 2 Vector\n",
        "print(m2 + m3)"
      ],
      "execution_count": 15,
      "outputs": [
        {
          "output_type": "stream",
          "name": "stdout",
          "text": [
            "[[1 2]]\n",
            "[[3]\n",
            " [4]]\n",
            "\n",
            "\n",
            "[[4 5]\n",
            " [5 6]]\n",
            "\n",
            "\n",
            "[[2 4]\n",
            " [4 6]]\n",
            "\n",
            "\n",
            "[[4 5]\n",
            " [7 8]]\n"
          ]
        }
      ]
    },
    {
      "cell_type": "markdown",
      "metadata": {
        "id": "PqBDDpQ16f5w"
      },
      "source": [
        "### Reshaping"
      ]
    },
    {
      "cell_type": "code",
      "metadata": {
        "id": "U41aI8kC5S1g",
        "colab": {
          "base_uri": "https://localhost:8080/"
        },
        "outputId": "0c879643-bd26-4aa0-c614-8a1960fd5ec6"
      },
      "source": [
        "z = np.arange(1, 7)\n",
        "z"
      ],
      "execution_count": 22,
      "outputs": [
        {
          "output_type": "execute_result",
          "data": {
            "text/plain": [
              "array([1, 2, 3, 4, 5, 6])"
            ]
          },
          "metadata": {},
          "execution_count": 22
        }
      ]
    },
    {
      "cell_type": "code",
      "metadata": {
        "id": "bKHih5qF54Zy",
        "colab": {
          "base_uri": "https://localhost:8080/"
        },
        "outputId": "3a9260ef-2995-4893-fc93-af837c2012e7"
      },
      "source": [
        "# numpy 배열 z의 차원 크기를 알려주는 함수\n",
        "z.shape"
      ],
      "execution_count": null,
      "outputs": [
        {
          "output_type": "execute_result",
          "data": {
            "text/plain": [
              "(6,)"
            ]
          },
          "metadata": {},
          "execution_count": 43
        }
      ]
    },
    {
      "cell_type": "code",
      "metadata": {
        "id": "ha8wA70c55bO",
        "colab": {
          "base_uri": "https://localhost:8080/"
        },
        "outputId": "075e8ce6-5b7b-4137-9347-37881a006ec8"
      },
      "source": [
        "# .reshape: 배열의 차원을 원하는 크기로 바꿔주는 함수\n",
        "Z = z.reshape(2, 3)\n",
        "Z"
      ],
      "execution_count": 23,
      "outputs": [
        {
          "output_type": "execute_result",
          "data": {
            "text/plain": [
              "array([[1, 2, 3],\n",
              "       [4, 5, 6]])"
            ]
          },
          "metadata": {},
          "execution_count": 23
        }
      ]
    },
    {
      "cell_type": "code",
      "metadata": {
        "id": "6REYzs2P6DR7",
        "colab": {
          "base_uri": "https://localhost:8080/"
        },
        "outputId": "5da08e2f-6b19-4fb3-b46c-cb3318c2fd7e"
      },
      "source": [
        "Z.shape"
      ],
      "execution_count": null,
      "outputs": [
        {
          "output_type": "execute_result",
          "data": {
            "text/plain": [
              "(2, 3)"
            ]
          },
          "metadata": {},
          "execution_count": 45
        }
      ]
    },
    {
      "cell_type": "code",
      "metadata": {
        "id": "sMUt1s_n6Tlf",
        "colab": {
          "base_uri": "https://localhost:8080/"
        },
        "outputId": "8c22f3b4-c122-4aee-d817-f18ea57b48b1"
      },
      "source": [
        " # 크기가 6인 1차원 배열로 변환\n",
        "Z.reshape(6)"
      ],
      "execution_count": 30,
      "outputs": [
        {
          "output_type": "execute_result",
          "data": {
            "text/plain": [
              "array([1, 2, 3, 4, 5, 6])"
            ]
          },
          "metadata": {},
          "execution_count": 30
        }
      ]
    },
    {
      "cell_type": "code",
      "metadata": {
        "id": "CJSd4FmC6Upj",
        "colab": {
          "base_uri": "https://localhost:8080/"
        },
        "outputId": "d6e975e6-ea08-4397-acea-922c682b5ca5"
      },
      "source": [
        "# same as above. 1차원으로 말그대로 FLATTEN하는함수\n",
        "# 크기를 지정할 필요가 없음.\n",
        "Z.flatten()"
      ],
      "execution_count": 26,
      "outputs": [
        {
          "output_type": "execute_result",
          "data": {
            "text/plain": [
              "array([1, 2, 3, 4, 5, 6])"
            ]
          },
          "metadata": {},
          "execution_count": 26
        }
      ]
    },
    {
      "cell_type": "code",
      "metadata": {
        "id": "9t8S7tEA6WYZ",
        "colab": {
          "base_uri": "https://localhost:8080/"
        },
        "outputId": "a4fab387-f259-4759-d54a-9708a1a37692"
      },
      "source": [
        "# transpose the matrix\n",
        "Z.T"
      ],
      "execution_count": null,
      "outputs": [
        {
          "output_type": "execute_result",
          "data": {
            "text/plain": [
              "array([[1, 4],\n",
              "       [2, 5],\n",
              "       [3, 6]])"
            ]
          },
          "metadata": {},
          "execution_count": 48
        }
      ]
    },
    {
      "cell_type": "markdown",
      "metadata": {
        "id": "haKFLP_j1u-0"
      },
      "source": [
        "## Comparison with python lists\n",
        "\n",
        "Why do we use NUMPY array?\n",
        "\n"
      ]
    },
    {
      "cell_type": "code",
      "metadata": {
        "id": "XSSHmWEp3COu"
      },
      "source": [
        "# log every value as list, one by one\n",
        "# 각 원소에 log를 취해 list로 반환하는 함수\n",
        "import math\n",
        "def listlog(vals):\n",
        "    return [math.log(y) for y in vals]"
      ],
      "execution_count": 40,
      "outputs": []
    },
    {
      "cell_type": "code",
      "metadata": {
        "id": "4Cri_K6P3Lzh",
        "colab": {
          "base_uri": "https://localhost:8080/"
        },
        "outputId": "bb1203ac-15d3-449b-93d6-6e737890c6a3"
      },
      "source": [
        "# get random vector (10,000,000)\n",
        "samp = np.random.random_sample(int(1e7))+1\n",
        "samp"
      ],
      "execution_count": 38,
      "outputs": [
        {
          "output_type": "execute_result",
          "data": {
            "text/plain": [
              "array([1.90257044, 1.56476441, 1.64359779, ..., 1.10896207, 1.84763168,\n",
              "       1.42692557])"
            ]
          },
          "metadata": {},
          "execution_count": 38
        }
      ]
    },
    {
      "cell_type": "code",
      "metadata": {
        "id": "-eiFlou93FBI",
        "colab": {
          "base_uri": "https://localhost:8080/"
        },
        "outputId": "3c5ebccd-8a61-46b0-9f65-bc070ac8aede"
      },
      "source": [
        "%time _ = listlog(samp.tolist())"
      ],
      "execution_count": 41,
      "outputs": [
        {
          "output_type": "stream",
          "name": "stdout",
          "text": [
            "CPU times: user 1.66 s, sys: 389 ms, total: 2.04 s\n",
            "Wall time: 2.04 s\n"
          ]
        }
      ]
    },
    {
      "cell_type": "code",
      "metadata": {
        "id": "e9zaAGo33OIT",
        "colab": {
          "base_uri": "https://localhost:8080/"
        },
        "outputId": "44070104-7c53-45d6-cb50-0f5516f58750"
      },
      "source": [
        "%time _ = np.log(samp)"
      ],
      "execution_count": 42,
      "outputs": [
        {
          "output_type": "stream",
          "name": "stdout",
          "text": [
            "CPU times: user 20.9 ms, sys: 15.2 ms, total: 36.1 ms\n",
            "Wall time: 35.1 ms\n"
          ]
        }
      ]
    },
    {
      "cell_type": "markdown",
      "metadata": {
        "id": "Nm8YGbEiMKrR"
      },
      "source": [
        "## Exercise1"
      ]
    },
    {
      "cell_type": "markdown",
      "metadata": {
        "id": "EGLNwo2RNgsx"
      },
      "source": [
        "Q1. Create a vector with values ranging from 10 to 49 (ex. 10, 11, ... 49) \\\n"
      ]
    },
    {
      "cell_type": "code",
      "metadata": {
        "id": "nmTRRBk3QT4g"
      },
      "source": [
        "# write your code\n"
      ],
      "execution_count": null,
      "outputs": []
    },
    {
      "cell_type": "markdown",
      "metadata": {
        "id": "hANj1arSNqW2"
      },
      "source": [
        "Q2. Create a vector with values ranging from 49 to 10 (ex. 49, 48, ... 10)\\\n"
      ]
    },
    {
      "cell_type": "code",
      "metadata": {
        "id": "zliyCV3BQXBp"
      },
      "source": [
        "# write your code\n"
      ],
      "execution_count": null,
      "outputs": []
    },
    {
      "cell_type": "markdown",
      "metadata": {
        "id": "N_CIgUqLNqrb"
      },
      "source": [
        "Q3. Get the positions where elements of 'a' and 'b' match? (Hint: np.where)\\\n",
        "Input)\\\n",
        "a = np.array([1,2,3,2,3,4,3,4,5,6])\\\n",
        "b = np.array([7,2,10,2,7,4,9,4,9,8])\\\n",
        "Output\\\n",
        "=> array([1, 3, 5, 7])\n"
      ]
    },
    {
      "cell_type": "code",
      "source": [
        "a = np.array([1,2,3,2,3,4,3,4,5,6])\n",
        "b = np.array([7,2,10,2,7,4,9,4,9,8])"
      ],
      "metadata": {
        "id": "Abq9YfI2hpBp"
      },
      "execution_count": null,
      "outputs": []
    },
    {
      "cell_type": "code",
      "metadata": {
        "id": "e_OuXEfAQXQa"
      },
      "source": [
        "a = np.array([1,2,3,2,3,4,3,4,5,6])\n",
        "b = np.array([7,2,10,2,7,4,9,4,9,8])\n",
        "# write your code\n"
      ],
      "execution_count": null,
      "outputs": []
    },
    {
      "cell_type": "markdown",
      "metadata": {
        "id": "GyUc68uENq_l"
      },
      "source": [
        "Q4. Remove Negative values in the array ‘b’ (HARD, Hint: np.where)\\\n",
        "Input: a = np.array((3, -2, 2, -1, 3))\\\n",
        "Output:\\\n",
        "=> [3, 2, 3]"
      ]
    },
    {
      "cell_type": "code",
      "metadata": {
        "id": "C27bpDhIQYBm"
      },
      "source": [
        "a = np.array((3, -2, 2, -1, 3))\n",
        "# write your code\n"
      ],
      "execution_count": null,
      "outputs": []
    },
    {
      "cell_type": "markdown",
      "metadata": {
        "id": "HCqkfBzs7gkK"
      },
      "source": [
        "# Pytorch Tutorial\n",
        "\n",
        "- Meta에서 개발한 딥러닝과 머신러닝을 위한 오프 소스 라이브러리 ( numpy 기반 )\n",
        "\n",
        "\n",
        "Refers heavily on\n",
        "https://github.com/cgpotts/cs224u/blob/master/tutorial_pytorch.ipynb"
      ]
    },
    {
      "cell_type": "code",
      "metadata": {
        "id": "8XyuVE1jlprF"
      },
      "source": [
        "import torch"
      ],
      "execution_count": 45,
      "outputs": []
    },
    {
      "cell_type": "markdown",
      "metadata": {
        "id": "-96WZDu4AYlY"
      },
      "source": [
        "## Tensors\n",
        "\n",
        "- Pytorch에서 데이터를 표현하는 최소 단위\n",
        "- numpy 배열과 매우 유사\n",
        "- GPU 가속을 통해 빠른 수학적 연산이 가능\n",
        "- 다차원의 데이터(스칼라, 벡터, 행렬...) 를 효율적으로 처리"
      ]
    },
    {
      "cell_type": "markdown",
      "metadata": {
        "id": "SZya2EQMAYlZ"
      },
      "source": [
        "### Tensor creation"
      ]
    },
    {
      "cell_type": "markdown",
      "metadata": {
        "id": "uHZHPUqHAYla"
      },
      "source": [
        "#### Calling the constructor"
      ]
    },
    {
      "cell_type": "code",
      "metadata": {
        "id": "0FnpV8u1AYlb",
        "colab": {
          "base_uri": "https://localhost:8080/"
        },
        "outputId": "1ea4a6c9-7cbc-4c1b-dcdc-3f0cb88a9423"
      },
      "source": [
        "t = torch.FloatTensor(2, 3)\n",
        "print(t)\n",
        "print(t.size())"
      ],
      "execution_count": 46,
      "outputs": [
        {
          "output_type": "stream",
          "name": "stdout",
          "text": [
            "tensor([[-4.5923e+17, -1.4370e-30,  9.7045e-25],\n",
            "        [ 4.4131e-41,  5.2015e+08,  4.4131e-41]])\n",
            "torch.Size([2, 3])\n"
          ]
        }
      ]
    },
    {
      "cell_type": "code",
      "metadata": {
        "id": "QOsBbJsLAYle",
        "colab": {
          "base_uri": "https://localhost:8080/"
        },
        "outputId": "ded31b5a-3e38-420e-d1de-0e9ecbdacdd4"
      },
      "source": [
        "# tensor를 0으로 초기화\n",
        "t.zero_()"
      ],
      "execution_count": 47,
      "outputs": [
        {
          "output_type": "execute_result",
          "data": {
            "text/plain": [
              "tensor([[0., 0., 0.],\n",
              "        [0., 0., 0.]])"
            ]
          },
          "metadata": {},
          "execution_count": 47
        }
      ]
    },
    {
      "cell_type": "code",
      "metadata": {
        "id": "dSRL60GsAYlh",
        "colab": {
          "base_uri": "https://localhost:8080/"
        },
        "outputId": "0ef42b51-941e-4e13-9265-ced6830ff9f7"
      },
      "source": [
        "torch.FloatTensor([[1, 2, 3], [4, 5, 6]])"
      ],
      "execution_count": 48,
      "outputs": [
        {
          "output_type": "execute_result",
          "data": {
            "text/plain": [
              "tensor([[1., 2., 3.],\n",
              "        [4., 5., 6.]])"
            ]
          },
          "metadata": {},
          "execution_count": 48
        }
      ]
    },
    {
      "cell_type": "markdown",
      "metadata": {
        "id": "XCL_ipglAYlj"
      },
      "source": [
        "#### Calling a method in the torch module"
      ]
    },
    {
      "cell_type": "code",
      "metadata": {
        "id": "K8fRMb_kAYlj",
        "colab": {
          "base_uri": "https://localhost:8080/"
        },
        "outputId": "5d674baa-6af6-42a1-e87f-e5ab894d123d"
      },
      "source": [
        "tl = torch.tensor([1, 2, 3])\n",
        "t = torch.tensor([1.0, 2.0, 3.0])\n",
        "print(tl, tl.type()) # A 64-bit integer tensor:\n",
        "print(t, t.type()) # A 32-bit float tensor:"
      ],
      "execution_count": 56,
      "outputs": [
        {
          "output_type": "stream",
          "name": "stdout",
          "text": [
            "tensor([1, 2, 3]) torch.LongTensor\n",
            "tensor([1., 2., 3.]) torch.FloatTensor\n"
          ]
        }
      ]
    },
    {
      "cell_type": "code",
      "metadata": {
        "id": "9IAozG4qAYln",
        "colab": {
          "base_uri": "https://localhost:8080/"
        },
        "outputId": "6fcb2493-c7c4-487f-e6a8-04380e33d51b"
      },
      "source": [
        "t = torch.zeros(2, 3)\n",
        "print(t)"
      ],
      "execution_count": 57,
      "outputs": [
        {
          "output_type": "stream",
          "name": "stdout",
          "text": [
            "tensor([[0., 0., 0.],\n",
            "        [0., 0., 0.]])\n"
          ]
        }
      ]
    },
    {
      "cell_type": "code",
      "source": [
        "torch.empty(2, 3)"
      ],
      "metadata": {
        "colab": {
          "base_uri": "https://localhost:8080/"
        },
        "id": "Tr5SMA5nDMd2",
        "outputId": "10b8688b-672a-4df7-f8b8-77d1370df436"
      },
      "execution_count": 58,
      "outputs": [
        {
          "output_type": "execute_result",
          "data": {
            "text/plain": [
              "tensor([[2.7149e-06, 1.0739e-05, 1.6517e-04],\n",
              "        [1.3087e-11, 3.3459e+21, 1.7283e-04]])"
            ]
          },
          "metadata": {},
          "execution_count": 58
        }
      ]
    },
    {
      "cell_type": "code",
      "metadata": {
        "id": "C9OonMUXAYlp",
        "colab": {
          "base_uri": "https://localhost:8080/"
        },
        "outputId": "6f535a6a-875b-4bc0-e153-ed60aee204b1"
      },
      "source": [
        "# numpy 와 유사한 built-in fuction 사용 가능\n",
        "\n",
        "t_zeros = torch.zeros_like(t)        # zeros_like returns a new tensor, t와 동일한 차원의 영행렬\n",
        "t_ones = torch.ones(2, 3)            # creates a tensor with 1s\n",
        "t_fives = torch.empty(2, 3).fill_(5) # creates a non-initialized tensor and fills it with 5\n",
        "t_random = torch.rand(2, 3)          # creates a uniform random tensor [0, 1]\n",
        "t_normal = torch.randn(2, 3)         # creates a normal random tensor\n",
        "\n",
        "print(t_zeros)\n",
        "print(t_ones)\n",
        "print(t_fives)\n",
        "print(t_random)\n",
        "print(t_normal)"
      ],
      "execution_count": 60,
      "outputs": [
        {
          "output_type": "stream",
          "name": "stdout",
          "text": [
            "tensor([[0., 0., 0.],\n",
            "        [0., 0., 0.]])\n",
            "tensor([[1., 1., 1.],\n",
            "        [1., 1., 1.]])\n",
            "tensor([[5., 5., 5.],\n",
            "        [5., 5., 5.]])\n",
            "tensor([[0.5757, 0.4741, 0.5034],\n",
            "        [0.2115, 0.6945, 0.0559]])\n",
            "tensor([[-0.7923, -0.0305, -1.2559],\n",
            "        [ 1.2746, -1.1710,  0.6264]])\n"
          ]
        }
      ]
    },
    {
      "cell_type": "markdown",
      "metadata": {
        "id": "vdYHIc4oAYlu"
      },
      "source": [
        "#### Using the PyTorch–NumPy bridge"
      ]
    },
    {
      "cell_type": "code",
      "metadata": {
        "id": "GdYQObiOAYlv",
        "colab": {
          "base_uri": "https://localhost:8080/"
        },
        "outputId": "56668835-715f-439b-9c4f-5918591ec779"
      },
      "source": [
        "# Create a new multi-dimensional array in NumPy with the np datatype (np.float32)\n",
        "a = np.array([1., 2., 3.])\n",
        "\n",
        "# Convert the array to a torch tensor\n",
        "t = torch.tensor(a)\n",
        "\n",
        "# Convert torch tensor to array\n",
        "ta = t.numpy()\n",
        "\n",
        "print(\"NumPy array: {}, type: {}\".format(a, a.dtype))\n",
        "print(\"Torch tensor: {}, type: {}\".format(t, t.dtype))"
      ],
      "execution_count": 61,
      "outputs": [
        {
          "output_type": "stream",
          "name": "stdout",
          "text": [
            "NumPy array: [1. 2. 3.], type: float64\n",
            "Torch tensor: tensor([1., 2., 3.], dtype=torch.float64), type: torch.float64\n"
          ]
        }
      ]
    },
    {
      "cell_type": "code",
      "source": [
        "ta"
      ],
      "metadata": {
        "colab": {
          "base_uri": "https://localhost:8080/"
        },
        "id": "OUuJMRsPD5qz",
        "outputId": "5db73ce8-b56e-4e2c-f09d-ce4f25b094ef"
      },
      "execution_count": 62,
      "outputs": [
        {
          "output_type": "execute_result",
          "data": {
            "text/plain": [
              "array([1., 2., 3.])"
            ]
          },
          "metadata": {},
          "execution_count": 62
        }
      ]
    },
    {
      "cell_type": "markdown",
      "metadata": {
        "id": "-FU0EJZGAYl0"
      },
      "source": [
        "#### Indexing"
      ]
    },
    {
      "cell_type": "code",
      "metadata": {
        "id": "mM9XNyXPAYl0",
        "colab": {
          "base_uri": "https://localhost:8080/"
        },
        "outputId": "91c01c4a-a1df-466b-f39c-d1fb0e8ece77"
      },
      "source": [
        "t = torch.randn(2, 3)\n",
        "print(t)\n",
        "print(t[:, 0])"
      ],
      "execution_count": 63,
      "outputs": [
        {
          "output_type": "stream",
          "name": "stdout",
          "text": [
            "tensor([[ 0.6637,  0.3466, -1.8786],\n",
            "        [-0.7127,  1.3145,  0.9990]])\n",
            "tensor([ 0.6637, -0.7127])\n"
          ]
        }
      ]
    },
    {
      "cell_type": "code",
      "metadata": {
        "scrolled": true,
        "id": "QeJ1tJwYAYl3",
        "colab": {
          "base_uri": "https://localhost:8080/"
        },
        "outputId": "ebc3fa96-94b5-4750-f541-0c11e73e7508"
      },
      "source": [
        "t = torch.randn(5, 6)\n",
        "print(t)\n",
        "i = torch.tensor([1, 3])\n",
        "j = torch.tensor([4, 5])\n",
        "print(t[i])                          # selects rows 1 and 3\n",
        "print(t[i, j])                       # selects (1, 4) and (3, 5)"
      ],
      "execution_count": 64,
      "outputs": [
        {
          "output_type": "stream",
          "name": "stdout",
          "text": [
            "tensor([[ 0.2291, -0.3767,  0.4112,  1.0349, -1.4237, -0.5356],\n",
            "        [ 0.2013, -0.0117,  0.1538,  0.9849,  1.4227,  0.4561],\n",
            "        [ 1.4652,  0.1052,  1.1235,  1.3789,  0.1630,  0.2836],\n",
            "        [ 0.0242,  0.1552,  1.3320,  0.7282,  0.5101,  0.2252],\n",
            "        [-2.2007, -1.2510, -0.8453,  1.8299,  0.9590,  2.0128]])\n",
            "tensor([[ 0.2013, -0.0117,  0.1538,  0.9849,  1.4227,  0.4561],\n",
            "        [ 0.0242,  0.1552,  1.3320,  0.7282,  0.5101,  0.2252]])\n",
            "tensor([1.4227, 0.2252])\n"
          ]
        }
      ]
    },
    {
      "cell_type": "markdown",
      "metadata": {
        "id": "YSbnhX1LAYl7"
      },
      "source": [
        "### Operations on tensors"
      ]
    },
    {
      "cell_type": "code",
      "metadata": {
        "id": "8r2LsFEsAYl8",
        "colab": {
          "base_uri": "https://localhost:8080/"
        },
        "outputId": "4a57508e-79c3-419b-d8a7-586d920441cc"
      },
      "source": [
        "# Scalars =: creates a tensor with a scalar\n",
        "# (0차원 tensor)\n",
        "s = torch.tensor(42)\n",
        "print(s)"
      ],
      "execution_count": 65,
      "outputs": [
        {
          "output_type": "stream",
          "name": "stdout",
          "text": [
            "tensor(42)\n"
          ]
        }
      ]
    },
    {
      "cell_type": "code",
      "metadata": {
        "id": "y4iC3kxtAYl-",
        "colab": {
          "base_uri": "https://localhost:8080/"
        },
        "outputId": "9c453991-e07e-4426-b1e7-ec572198c3d4"
      },
      "source": [
        "# 0차원 tensor에만 적용 가능\n",
        "# 텐서 안의 값 반환\n",
        "s.item()"
      ],
      "execution_count": 66,
      "outputs": [
        {
          "output_type": "execute_result",
          "data": {
            "text/plain": [
              "42"
            ]
          },
          "metadata": {},
          "execution_count": 66
        }
      ]
    },
    {
      "cell_type": "markdown",
      "metadata": {
        "id": "HBuQ_A6UmcyF"
      },
      "source": [
        "#### Matrix operation"
      ]
    },
    {
      "cell_type": "code",
      "metadata": {
        "id": "IKH_s6c2AYmB",
        "colab": {
          "base_uri": "https://localhost:8080/"
        },
        "outputId": "9991b809-ae5e-46f0-b96e-11554dbed537"
      },
      "source": [
        "# Row vector\n",
        "x = torch.randn(1,3)\n",
        "print(\"Row vector\\n{}\\nwith size {}\".format(x, x.size()))\n",
        "\n",
        "# Column vector\n",
        "v = torch.randn(3,1)\n",
        "print(\"Column vector\\n{}\\nwith size {}\".format(v, v.size()))\n",
        "\n",
        "# Matrix\n",
        "A = torch.randn(3, 3)\n",
        "print(\"Matrix\\n{}\\nwith size {}\".format(A, A.size()))"
      ],
      "execution_count": null,
      "outputs": [
        {
          "output_type": "stream",
          "name": "stdout",
          "text": [
            "Row vector\n",
            "tensor([[1.0386, 0.6158, 0.6202]])\n",
            "with size torch.Size([1, 3])\n",
            "Column vector\n",
            "tensor([[2.0319],\n",
            "        [0.4432],\n",
            "        [0.6999]])\n",
            "with size torch.Size([3, 1])\n",
            "Matrix\n",
            "tensor([[-0.7485, -0.4758, -0.7305],\n",
            "        [ 0.5014,  0.2211, -0.8766],\n",
            "        [ 0.5387, -1.3971,  0.5222]])\n",
            "with size torch.Size([3, 3])\n"
          ]
        }
      ]
    },
    {
      "cell_type": "code",
      "metadata": {
        "id": "79i3WKd6AYmE",
        "cellView": "code",
        "colab": {
          "base_uri": "https://localhost:8080/"
        },
        "outputId": "ca2dfb75-ce6d-4b1d-9c56-a0b90c006b62"
      },
      "source": [
        "#@title\n",
        "u = torch.matmul(A, v)\n",
        "print(u, u.shape) # [3, 1]\n",
        "b = torch.randn(3, 1)\n",
        "y = u + b\n",
        "print(y)\n",
        "\n",
        "# or you can use torch.add()\n",
        "print(torch.add(u, b))"
      ],
      "execution_count": null,
      "outputs": [
        {
          "output_type": "stream",
          "name": "stdout",
          "text": [
            "tensor([[-2.2430],\n",
            "        [ 0.5033],\n",
            "        [ 0.8410]]) torch.Size([3, 1])\n",
            "tensor([[-2.4289],\n",
            "        [-0.1283],\n",
            "        [ 2.1629]])\n",
            "tensor([[-2.4289],\n",
            "        [-0.1283],\n",
            "        [ 2.1629]])\n"
          ]
        }
      ]
    },
    {
      "cell_type": "code",
      "metadata": {
        "id": "eDKAVzG9AYmG",
        "colab": {
          "base_uri": "https://localhost:8080/"
        },
        "outputId": "6982330b-bdde-43b5-f0f4-5c0745c781f8"
      },
      "source": [
        "# x.shape = (1, 3)\n",
        "# torch.matmul(A, v).shape = (3, 1)\n",
        "\n",
        "s = torch.matmul(x, torch.matmul(A, v))\n",
        "# 1. torch.matmul(A,v) --> 3 X 3 , 3 X 1 연산 --> 3 X 1 tensor\n",
        "# 2. torch.matmul(x , #1) -->  1 X 3, 3X1 연산 --> 1 X 1 tensor (스칼라)\n",
        "print(s.item())"
      ],
      "execution_count": null,
      "outputs": [
        {
          "output_type": "stream",
          "name": "stdout",
          "text": [
            "-1.4979734420776367\n"
          ]
        }
      ]
    },
    {
      "cell_type": "markdown",
      "metadata": {
        "id": "n3dEQPnImEyJ"
      },
      "source": [
        "#### Matmul vs. Mul"
      ]
    },
    {
      "cell_type": "code",
      "metadata": {
        "id": "LuOAptBvK2x_",
        "colab": {
          "base_uri": "https://localhost:8080/"
        },
        "outputId": "6d0d15a7-2321-4bc1-8b96-cfdcfb5d7e00"
      },
      "source": [
        "# MatMul: 행렬곱 (matrix multiplication)\n",
        "m1 = torch.FloatTensor([[1, 2], [3, 4]])\n",
        "m2 = torch.FloatTensor([[1], [2]])\n",
        "print('Shape of Matrix 1: ', m1.shape) # 2 x 2\n",
        "print('Shape of Matrix 2: ', m2.shape) # 2 x 1\n",
        "print(m1.matmul(m2)) # 2 x 1\n",
        "\n",
        "# Mul: 요소곱 (element-wise multiplication)\n",
        "m1 = torch.FloatTensor([[1, 2], [3, 4]])\n",
        "m2 = torch.FloatTensor([[1,2], [2,3]])\n",
        "print('Shape of Matrix 1: ', m1.shape) # 2 x 2\n",
        "print('Shape of Matrix 2: ', m2.shape) # 2 x 1\n",
        "print(m1 * m2) # 2 x 2\n",
        "print(m1.mul(m2))"
      ],
      "execution_count": 67,
      "outputs": [
        {
          "output_type": "stream",
          "name": "stdout",
          "text": [
            "Shape of Matrix 1:  torch.Size([2, 2])\n",
            "Shape of Matrix 2:  torch.Size([2, 1])\n",
            "tensor([[ 5.],\n",
            "        [11.]])\n",
            "Shape of Matrix 1:  torch.Size([2, 2])\n",
            "Shape of Matrix 2:  torch.Size([2, 2])\n",
            "tensor([[ 1.,  4.],\n",
            "        [ 6., 12.]])\n",
            "tensor([[ 1.,  4.],\n",
            "        [ 6., 12.]])\n"
          ]
        }
      ]
    },
    {
      "cell_type": "markdown",
      "metadata": {
        "id": "fDxw3yR3mlUM"
      },
      "source": [
        "#### others"
      ]
    },
    {
      "cell_type": "code",
      "metadata": {
        "id": "1yxDFGjWAYmI",
        "colab": {
          "base_uri": "https://localhost:8080/"
        },
        "outputId": "461285ca-b013-4b45-b285-622fba6297b4"
      },
      "source": [
        "# common tensor methods (they also have the counterpart in\n",
        "# the torch package, e.g. as torch.sum(t))\n",
        "t = torch.randn(2,3)\n",
        "print(t)\n",
        "print('SUM')\n",
        "print(t.sum(dim=0))            # sum\n",
        "print(\"TRANSPOSE\")\n",
        "print(t.t())                   # transpose(전치)\n",
        "print(\"Number of Elements in Tensor\")\n",
        "print(t.numel())               # number of elements in tensor\n",
        "print(\"Indices of non-zero elements\")\n",
        "print(t.nonzero())             # indices of non-zero elements\n",
        "\n",
        "# operations in the package\n",
        "torch.arange(0, 10)     # tensor([0, 1, 2, 3, 4, 5, 6, 7, 8, 9])\n",
        "torch.eye(3, 3)         # creates a 3x3 matrix with 1s in the diagonal (identity in this case)\n",
        "t = torch.arange(0, 3)"
      ],
      "execution_count": 69,
      "outputs": [
        {
          "output_type": "stream",
          "name": "stdout",
          "text": [
            "tensor([[ 0.5622,  0.1338,  0.3820],\n",
            "        [-0.8008,  0.2448, -0.3337]])\n",
            "SUM\n",
            "tensor([-0.2386,  0.3786,  0.0483])\n",
            "TRANSPOSE\n",
            "tensor([[ 0.5622, -0.8008],\n",
            "        [ 0.1338,  0.2448],\n",
            "        [ 0.3820, -0.3337]])\n",
            "Number of Elements in Tensor\n",
            "6\n",
            "Indices of non-zero elements\n",
            "tensor([[0, 0],\n",
            "        [0, 1],\n",
            "        [0, 2],\n",
            "        [1, 0],\n",
            "        [1, 1],\n",
            "        [1, 2]])\n"
          ]
        }
      ]
    },
    {
      "cell_type": "code",
      "source": [
        "torch.eye(3, 3)"
      ],
      "metadata": {
        "colab": {
          "base_uri": "https://localhost:8080/"
        },
        "id": "rMOOkH6PFWzW",
        "outputId": "5b5db9f8-3450-466e-85e6-610ccc77ed5c"
      },
      "execution_count": null,
      "outputs": [
        {
          "output_type": "execute_result",
          "data": {
            "text/plain": [
              "tensor([[1., 0., 0.],\n",
              "        [0., 1., 0.],\n",
              "        [0., 0., 1.]])"
            ]
          },
          "metadata": {},
          "execution_count": 78
        }
      ]
    },
    {
      "cell_type": "markdown",
      "metadata": {
        "id": "CAg-ZLqmC2Zx"
      },
      "source": [
        "### Reshaping (view)"
      ]
    },
    {
      "cell_type": "code",
      "source": [
        "t = np.arange(12)"
      ],
      "metadata": {
        "id": "lpAySCsuFgo2"
      },
      "execution_count": null,
      "outputs": []
    },
    {
      "cell_type": "code",
      "source": [
        "t"
      ],
      "metadata": {
        "colab": {
          "base_uri": "https://localhost:8080/"
        },
        "id": "E6yEG_0MFifO",
        "outputId": "eace7a66-8840-4c41-8084-6932c3c8f448"
      },
      "execution_count": null,
      "outputs": [
        {
          "output_type": "execute_result",
          "data": {
            "text/plain": [
              "array([ 0,  1,  2,  3,  4,  5,  6,  7,  8,  9, 10, 11])"
            ]
          },
          "metadata": {},
          "execution_count": 80
        }
      ]
    },
    {
      "cell_type": "code",
      "metadata": {
        "id": "Af0q0DLQC9R5",
        "cellView": "code",
        "colab": {
          "base_uri": "https://localhost:8080/"
        },
        "outputId": "250c68ba-f5c9-4103-a807-9126d6e262e2"
      },
      "source": [
        "import torch\n",
        "import numpy as np\n",
        "# -1을 사용하면 해당 dimension을 모양에 맞게 채워줍니다.\n",
        "# -1은 나머지 차원을 자동으로 계산하도록 합니다. (2개 이상 등장 X)\n",
        "\n",
        "t = np.arange(12).reshape(-1, 2, 3)\n",
        "\n",
        "t.shape   # 2 = 12/(2*3)"
      ],
      "execution_count": 70,
      "outputs": [
        {
          "output_type": "execute_result",
          "data": {
            "text/plain": [
              "(2, 2, 3)"
            ]
          },
          "metadata": {},
          "execution_count": 70
        }
      ]
    },
    {
      "cell_type": "code",
      "metadata": {
        "id": "RduHorQCEjQp",
        "cellView": "code",
        "colab": {
          "base_uri": "https://localhost:8080/"
        },
        "outputId": "f56c1f42-3fb4-454f-e6bb-206ab6d5753c"
      },
      "source": [
        "# torch 로 변환\n",
        "floatt = torch.FloatTensor(t)\n",
        "floatt.shape"
      ],
      "execution_count": null,
      "outputs": [
        {
          "output_type": "execute_result",
          "data": {
            "text/plain": [
              "torch.Size([2, 2, 3])"
            ]
          },
          "metadata": {},
          "execution_count": 82
        }
      ]
    },
    {
      "cell_type": "code",
      "metadata": {
        "id": "jfdnq_tjG7TB",
        "cellView": "code",
        "colab": {
          "base_uri": "https://localhost:8080/"
        },
        "outputId": "d212030a-96a7-4082-96d6-6a28b6066f1a"
      },
      "source": [
        "# view == reshape(numpy)\n",
        "# 4 = 12/3\n",
        "floatt.view([-1, 3]).shape"
      ],
      "execution_count": null,
      "outputs": [
        {
          "output_type": "execute_result",
          "data": {
            "text/plain": [
              "torch.Size([4, 3])"
            ]
          },
          "metadata": {},
          "execution_count": 83
        }
      ]
    },
    {
      "cell_type": "markdown",
      "metadata": {
        "id": "966aocEsl9yR"
      },
      "source": [
        "more techniques"
      ]
    },
    {
      "cell_type": "code",
      "metadata": {
        "id": "RRhU0asaKMak",
        "cellView": "code",
        "colab": {
          "base_uri": "https://localhost:8080/"
        },
        "outputId": "2384e11f-c25c-4fd5-b029-436192b29994"
      },
      "source": [
        "#@title\n",
        "# .flatten(): tensor를 1차원으로 평면화\n",
        "flattened = floatt.flatten()\n",
        "print(flattened)\n",
        "print(flattened.shape)"
      ],
      "execution_count": null,
      "outputs": [
        {
          "output_type": "stream",
          "name": "stdout",
          "text": [
            "tensor([ 0.,  1.,  2.,  3.,  4.,  5.,  6.,  7.,  8.,  9., 10., 11.])\n",
            "torch.Size([12])\n"
          ]
        }
      ]
    },
    {
      "cell_type": "code",
      "metadata": {
        "id": "ZyfYf1LXKFV-",
        "colab": {
          "base_uri": "https://localhost:8080/"
        },
        "outputId": "d34e51ff-de79-4df1-b6ed-22c228df91ba"
      },
      "source": [
        "t = torch.randn(2,3)\n",
        "t.flatten()"
      ],
      "execution_count": null,
      "outputs": [
        {
          "output_type": "execute_result",
          "data": {
            "text/plain": [
              "tensor([-0.5111, -0.3072,  0.8795, -1.2989, -2.4725,  0.2902])"
            ]
          },
          "metadata": {},
          "execution_count": 85
        }
      ]
    },
    {
      "cell_type": "code",
      "metadata": {
        "id": "8VnIvepAl8Ut",
        "cellView": "code"
      },
      "source": [
        "#@title\n",
        "t = torch.tensor(np.arange(6))"
      ],
      "execution_count": 72,
      "outputs": []
    },
    {
      "cell_type": "code",
      "source": [
        "t = torch.randn(2,3)\n",
        "print(t)\n",
        "print(t.shape)\n",
        "print(t.unsqueeze(1))\n",
        "print(t.unsqueeze(1).shape)"
      ],
      "metadata": {
        "colab": {
          "base_uri": "https://localhost:8080/"
        },
        "id": "MNrgjKriGBr7",
        "outputId": "874d4624-76e4-4af2-90c6-f35b4eb213eb"
      },
      "execution_count": null,
      "outputs": [
        {
          "output_type": "stream",
          "name": "stdout",
          "text": [
            "tensor([[-0.2693,  0.5996,  0.1178],\n",
            "        [-0.2092,  0.3339,  0.4165]])\n",
            "torch.Size([2, 3])\n",
            "tensor([[[-0.2693,  0.5996,  0.1178]],\n",
            "\n",
            "        [[-0.2092,  0.3339,  0.4165]]])\n",
            "torch.Size([2, 1, 3])\n"
          ]
        }
      ]
    },
    {
      "cell_type": "code",
      "metadata": {
        "id": "zOXwwLv2J9fP",
        "cellView": "code",
        "colab": {
          "base_uri": "https://localhost:8080/"
        },
        "outputId": "d64c9a8b-9c02-43c8-a97f-c6e54007cdf9"
      },
      "source": [
        "# squeeze & unsqueeze\n",
        "print(t)\n",
        "print(t.view(-1, 2))            # 텐서를 선택한 차원으로 재배열\n",
        "print(t.shape)"
      ],
      "execution_count": 73,
      "outputs": [
        {
          "output_type": "stream",
          "name": "stdout",
          "text": [
            "tensor([0, 1, 2, 3, 4, 5])\n",
            "tensor([[0, 1],\n",
            "        [2, 3],\n",
            "        [4, 5]])\n",
            "torch.Size([6])\n",
            "tensor([0, 1, 2, 3, 4, 5])\n",
            "torch.Size([12])\n",
            "torch.Size([2, 6])\n"
          ]
        }
      ]
    },
    {
      "cell_type": "code",
      "source": [
        "# unsqueeze\n",
        "# 행렬 계산을 하기 위해 차원을 맞춰주기 위해 사용\n",
        "print(t.shape)\n",
        "\n",
        "tt = t.unsqueeze(1)           # 선택한 위치에 새로운 차원 추가\n",
        "print(tt.shape)\n",
        "\n",
        "ttt = tt.unsqueeze(0)\n",
        "print(ttt.shape)"
      ],
      "metadata": {
        "colab": {
          "base_uri": "https://localhost:8080/"
        },
        "id": "9ebIQ0H6RNB6",
        "outputId": "5542b9a6-e3ac-48d9-9fdd-a527e43dec1c"
      },
      "execution_count": 85,
      "outputs": [
        {
          "output_type": "stream",
          "name": "stdout",
          "text": [
            "torch.Size([6])\n",
            "torch.Size([6, 1])\n",
            "torch.Size([1, 6, 1])\n"
          ]
        }
      ]
    },
    {
      "cell_type": "code",
      "source": [
        "# 크기가 1인 모든 차원을 없애줌\n",
        "ttt.squeeze()"
      ],
      "metadata": {
        "colab": {
          "base_uri": "https://localhost:8080/"
        },
        "id": "2PNj--rlTJAR",
        "outputId": "5b264d1e-c7c6-4a57-e04c-404c40c4de21"
      },
      "execution_count": 84,
      "outputs": [
        {
          "output_type": "execute_result",
          "data": {
            "text/plain": [
              "torch.Size([6])"
            ]
          },
          "metadata": {},
          "execution_count": 84
        }
      ]
    },
    {
      "cell_type": "code",
      "source": [
        "# cat: 여러 tensor를 주어진 차원에서 연결하는 것 (concatenate)\n",
        "t = torch.arange(3)\n",
        "print(t)\n",
        "cat = torch.cat((t,t))\n",
        "print(cat)\n",
        "print(cat.shape)      # tensor([0, 1, 2, 0, 1, 2])\n",
        "\n",
        "# stack: 여러 텐서를 새로운 차원으로 쌓음\n",
        "print(torch.stack((t, t)).shape)      # tensor([[0, 1, 2], [0, 1, 2]])\n"
      ],
      "metadata": {
        "colab": {
          "base_uri": "https://localhost:8080/"
        },
        "id": "rhFOqdA-TKJZ",
        "outputId": "de9aff2b-3287-4996-d69b-f2bc3c08fd5f"
      },
      "execution_count": 89,
      "outputs": [
        {
          "output_type": "stream",
          "name": "stdout",
          "text": [
            "tensor([0, 1, 2])\n",
            "tensor([0, 1, 2, 0, 1, 2])\n",
            "torch.Size([6])\n",
            "torch.Size([2, 3])\n"
          ]
        }
      ]
    },
    {
      "cell_type": "code",
      "source": [],
      "metadata": {
        "id": "sXW4dPfHRRKO"
      },
      "execution_count": null,
      "outputs": []
    },
    {
      "cell_type": "markdown",
      "metadata": {
        "id": "0auDroqFHKnk"
      },
      "source": [
        "## Exercise2\n",
        "\n",
        "**Restriction**\n",
        "- Pytorch Tensor로 먼저 변환하십시오.\n",
        "- Numpy가 아닌 Pytorch tensor 메소드만 사용하십시오.\n"
      ]
    },
    {
      "cell_type": "markdown",
      "metadata": {
        "id": "saS6ZRbTHSd4"
      },
      "source": [
        "Q1. Using reshaping and indexing, print out as follows:\n",
        "\n",
        "Goal : \\\n",
        "`torch.Size([2, 2, 6]) \\\n",
        "tensor([18., 19., 20., 21.])`\n",
        "\n",
        "\n",
        "\n"
      ]
    },
    {
      "cell_type": "code",
      "metadata": {
        "id": "vH5b9cpXG_vF",
        "colab": {
          "base_uri": "https://localhost:8080/"
        },
        "outputId": "79f4b363-3fb7-4376-fa20-102e5ecf74af"
      },
      "source": [
        "t = np.arange(24)\n",
        "### write your code (Hint : keep printing the shape and result so that you can see!)\n",
        ";"
      ],
      "execution_count": null,
      "outputs": [
        {
          "output_type": "execute_result",
          "data": {
            "text/plain": [
              "array([ 0,  1,  2,  3,  4,  5,  6,  7,  8,  9, 10, 11, 12, 13, 14, 15, 16,\n",
              "       17, 18, 19, 20, 21, 22, 23])"
            ]
          },
          "metadata": {},
          "execution_count": 94
        }
      ]
    },
    {
      "cell_type": "markdown",
      "metadata": {
        "id": "huiUbyWbW_Zu"
      },
      "source": [
        "Q2. Add 1 to tensor A (Hint: Broadcast)\\\n",
        "Input: a = np.arange(9).reshape(3, 3)\\\n",
        "Output: \\\n",
        "\n",
        "\n",
        "```\n",
        "tensor([[1, 2, 3],\n",
        "        [4, 5, 6],\n",
        "        [7, 8, 9]])\n",
        "```\n",
        "\n",
        "\n",
        "\n"
      ]
    },
    {
      "cell_type": "code",
      "source": [
        " a = np.arange(9).reshape(3, 3)"
      ],
      "metadata": {
        "colab": {
          "base_uri": "https://localhost:8080/"
        },
        "id": "m0qxOl8PJvKm",
        "outputId": "adfeda50-7e98-44d4-c31a-b74659aebeb9"
      },
      "execution_count": null,
      "outputs": [
        {
          "output_type": "execute_result",
          "data": {
            "text/plain": [
              "tensor([[1, 2, 3],\n",
              "        [4, 5, 6],\n",
              "        [7, 8, 9]])"
            ]
          },
          "metadata": {},
          "execution_count": 98
        }
      ]
    },
    {
      "cell_type": "markdown",
      "metadata": {
        "id": "vcCKYJUSW_Zw"
      },
      "source": [
        "\n",
        "Q3. Swap rows 1 and 2 in the array 'a’ at Q2(HARD)\n",
        "\n",
        "![image.png](data:image/png;base64,iVBORw0KGgoAAAANSUhEUgAAAG8AAABKCAIAAAA6xp2yAAAD20lEQVR4Ae2b0XbjMAhE8/8/nZ5WLqWCGSEbW05Cn+iA0HDNpt6e3cezvvIIPPJaVadn0cxcgqJZNDMJZPaq3bwTzcfvlzX1m7nvA0t3eHTUxwN2ICmLfqGS6BOyCI5HrPBU24vgLbosflBWTwe6VYuJT1vMlQU0tXsdc6OSnaIpp0iwwwPqdjVNa90qyOvz+WzFwSO5ZcSVpIrm9oSEyJHgaprWa3CDZDF1YLtpRRaZfzjEDejmbryY5tQkUiyBO5KIHUR0CunSJx6soSk/ZCeMqlex4Py2zCrxTY9YXUNTnLnjSVYHulLHumYYuwddcdjKLVhMM7ga3cDdt+5grugedEX3+FC8mqa1bhVrWj4ZusBWasV2tkrwceq2JH4Nmt0ALpSuxsXkHnRF2y2iXE2zG3LfJPFTulLHGg3SdU0wXkCzAe1eX4J2W9nU/PLhgK6Y6oaabMZ4epglVkhq2PbKgkSfCbuJtmy4FFcic+9Kd3iUpuvyY8Wimfnoi2bRzCSQ2evE3Uz/jM+c+6dXusNzaabPf0bDG70hkfGIy91LQXoiJ8O7dvSEd6HEcR251LqOIzceqUdnkR7x09Us+JOu3eu4c9Z9O1yxrr77hUDLute5ou0WUa6maa1bhfg+WOwed0XigaTemaYd2wXnivZsRPkgmoga0iP4uppPoUmQkVQHa/jt+9NsP74IiKJJ4PxLRUhFav41xd+8824GMQXLMMO/zNU0u9fA2Umm6oPFwbI/Zjgqmnf6V134OTGXO/5i0y6a2iO5RQfW8FRPe1wrC3ZTX3+H+GVoDt9O1tKUnc2yceJuZll8oT5FM/NhFc2imUkgs9eJu5n+GZ85908v4pCkiI1zaZKL75Mib0gk5fpfQ3P2yUu9Dtx5rChHbKopBBlJud0W0NQWdez6Q2LwoC7TsW6L9O5XCvoIiq+maa1bBXkVPXjEllmFI3PrxYYN1tO0nrgSn9BWWqVoTmyAxqdj/cCQzkHrDhJPOJMzwcB12cThTwZ0hdsTFTd9eBfpSVLupQtoaos6dv114pF6dBbpL7ObmhEZRpe1+GCxe9wVd1z3Td86zlJcl1a0CjIQr0Qs3A6uiDogb1s9Tx/Jui6taBV0abxym039R1ek8D/O0zci68d114oVrYKujlcidm4HV0QdkLetnqePZJFLret4eNdU8TaeWk90HOl8bV23V39uypDtxcX1hEQyNjrSiPC7SFuScm9cQ9O1skokyEjKdXsuTb4UrqErRfJiT1LE4Yk0ya3vmiqamU+2aBbNTAKZvWo3i2YmgcxetZtFM5NAZq/azUyaXwA4RLv0pRloAAAAAElFTkSuQmCC)\n"
      ]
    },
    {
      "cell_type": "code",
      "metadata": {
        "id": "uidsA9FaW_Zw",
        "colab": {
          "base_uri": "https://localhost:8080/"
        },
        "outputId": "b85bd2ed-d1b3-4cf8-eb1c-2f66a8ed070b"
      },
      "source": [
        "a = np.arange(9).reshape(3, 3)\n",
        "# write your code\n"
      ],
      "execution_count": null,
      "outputs": [
        {
          "output_type": "stream",
          "name": "stdout",
          "text": [
            "[[3 4 5]\n",
            " [0 1 2]\n",
            " [6 7 8]]\n"
          ]
        }
      ]
    }
  ]
}